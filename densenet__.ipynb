{
 "cells": [
  {
   "cell_type": "code",
   "execution_count": 1,
   "metadata": {
    "collapsed": false
   },
   "outputs": [
    {
     "name": "stderr",
     "output_type": "stream",
     "text": [
      "Using TensorFlow backend.\n"
     ]
    }
   ],
   "source": [
    "from __future__ import absolute_import\n",
    "from __future__ import division\n",
    "from __future__ import print_function\n",
    "\n",
    "import os\n",
    "from keras.applications import InceptionV3\n",
    "from keras.preprocessing.image import ImageDataGenerator\n",
    "from keras.preprocessing import image\n",
    "from os.path import join\n",
    "import matplotlib.pyplot as plt\n",
    "from keras.models import load_model\n",
    "import pickle\n",
    "from sklearn  import metrics\n",
    "from PIL import Image\n",
    "from keras import optimizers\n",
    "from keras import layers\n",
    "\n"
   ]
  },
  {
   "cell_type": "code",
   "execution_count": 2,
   "metadata": {
    "collapsed": true
   },
   "outputs": [],
   "source": [
    "from keras.models import Model\n",
    "from keras.layers.core import Dense,Dropout,Activation\n",
    "from keras.layers import Conv2D\n",
    "from keras.layers.pooling import AveragePooling2D,GlobalAveragePooling2D\n",
    "from keras.layers import Input,Concatenate\n",
    "from keras.layers.normalization import BatchNormalization\n",
    "from keras.regularizers import l2\n",
    "from keras.optimizers import RMSprop,Adamax\n",
    "import keras.backend as K\n",
    "from sklearn.model_selection import train_test_split\n",
    "from keras.callbacks import ModelCheckpoint, ReduceLROnPlateau,LearningRateScheduler,EarlyStopping"
   ]
  },
  {
   "cell_type": "code",
   "execution_count": 3,
   "metadata": {
    "collapsed": true
   },
   "outputs": [],
   "source": [
    "\n",
    "def conv_layer(x,concat_axis,nb_filter,dropout_rate=None,weight_decay=1E-4):\n",
    "    x = BatchNormalization(axis=concat_axis,\n",
    "                          gamma_regularizer=l2(weight_decay),\n",
    "                          beta_regularizer=l2(weight_decay))(x)\n",
    "    x = Activation('relu')(x)\n",
    "    x = Conv2D(nb_filter,(3,3),padding='same',kernel_regularizer=l2(weight_decay),use_bias=False)(x)\n",
    "    if dropout_rate:\n",
    "        x = Dropout(dropout_rate)(x)\n",
    "    return x"
   ]
  },
  {
   "cell_type": "code",
   "execution_count": 4,
   "metadata": {
    "collapsed": true
   },
   "outputs": [],
   "source": [
    "def transition_layer(x,concat_axis,nb_filter,dropout_rate=None,weight_decay=1E-4):\n",
    "    x = BatchNormalization(axis=concat_axis,\n",
    "                          gamma_regularizer=l2(weight_decay),\n",
    "                          beta_regularizer=l2(weight_decay))(x)\n",
    "    x = Activation('relu')(x)\n",
    "    x = Conv2D(nb_filter,(1,1),padding='same',kernel_regularizer=l2(weight_decay),use_bias=False)(x)\n",
    "    if dropout_rate:\n",
    "        x = Dropout(dropout_rate)(x)\n",
    "    x = AveragePooling2D((2,2),strides=(2,2))(x)\n",
    "    return x"
   ]
  },
  {
   "cell_type": "code",
   "execution_count": 5,
   "metadata": {
    "collapsed": true
   },
   "outputs": [],
   "source": [
    "def denseblock(x,concat_axis,nb_filter,nb_layers,growth_rate,dropout_rate=None,weight_decay=1E-4):\n",
    "    list_features = [x]\n",
    "    for i in range(nb_layers):\n",
    "        x = conv_layer(x,concat_axis,growth_rate,dropout_rate=None,weight_decay=1E-4)\n",
    "        list_features.append(x)\n",
    "        x = Concatenate(axis=concat_axis)(list_features)\n",
    "        nb_filter += growth_rate\n",
    "    return x,nb_filter"
   ]
  },
  {
   "cell_type": "code",
   "execution_count": 6,
   "metadata": {
    "collapsed": true
   },
   "outputs": [],
   "source": [
    "def Densenet(nb_classes,img_dim,depth,nb_dense_block,nb_filter,growth_rate,\n",
    "             dropout_rate=None,weight_decay=1E-4):\n",
    "    if K.image_dim_ordering() == \"th\":\n",
    "        concat_axis = 1\n",
    "    elif K.image_dim_ordering() == \"tf\":\n",
    "        concat_axis = -1\n",
    "        \n",
    "    model_input = Input(shape=img_dim)\n",
    "    \n",
    "    assert (depth-4)%3  == 0 , \"Depth must be 4*N +3\"\n",
    "    \n",
    "    nb_layers = int((depth-4 )/ 3) \n",
    "    \n",
    "    x = Conv2D(nb_filter,(3,3),padding='same',use_bias=False,\n",
    "               kernel_regularizer=l2(weight_decay))(model_input)\n",
    "    \n",
    "    for block_id in range(nb_dense_block-1):\n",
    "        \n",
    "        x,nb_filter = denseblock(x,concat_axis,nb_filter,nb_layers,growth_rate,\n",
    "                                 dropout_rate=None,weight_decay=1E-4)\n",
    "        x = transition_layer(x,concat_axis,nb_filter,dropout_rate=None,weight_decay=1E-4)\n",
    "        \n",
    "    x = BatchNormalization(axis=concat_axis,\n",
    "                          gamma_regularizer=l2(weight_decay),\n",
    "                          beta_regularizer=l2(weight_decay))(x)\n",
    "    \n",
    "    x = Activation('relu')(x)\n",
    "    x = GlobalAveragePooling2D(data_format=K.image_data_format())(x)\n",
    "    \n",
    "    x = Dense(nb_classes,activation='softmax',kernel_regularizer=l2(weight_decay),\n",
    "                            bias_regularizer=l2(weight_decay))(x)\n",
    "    densenet = Model(inputs=[model_input], outputs=[x], name=\"DenseNet\")\n",
    "    \n",
    "    return densenet\n",
    "    "
   ]
  },
  {
   "cell_type": "code",
   "execution_count": 8,
   "metadata": {
    "collapsed": false
   },
   "outputs": [
    {
     "name": "stdout",
     "output_type": "stream",
     "text": [
      "__________________________________________________________________________________________________\n",
      "Layer (type)                    Output Shape         Param #     Connected to                     \n",
      "==================================================================================================\n",
      "input_2 (InputLayer)            (None, 112, 112, 1)  0                                            \n",
      "__________________________________________________________________________________________________\n",
      "conv2d_2 (Conv2D)               (None, 112, 112, 32) 288         input_2[0][0]                    \n",
      "__________________________________________________________________________________________________\n",
      "batch_normalization_2 (BatchNor (None, 112, 112, 32) 128         conv2d_2[0][0]                   \n",
      "__________________________________________________________________________________________________\n",
      "activation_2 (Activation)       (None, 112, 112, 32) 0           batch_normalization_2[0][0]      \n",
      "__________________________________________________________________________________________________\n",
      "conv2d_3 (Conv2D)               (None, 112, 112, 12) 3456        activation_2[0][0]               \n",
      "__________________________________________________________________________________________________\n",
      "concatenate_1 (Concatenate)     (None, 112, 112, 44) 0           conv2d_2[0][0]                   \n",
      "                                                                 conv2d_3[0][0]                   \n",
      "__________________________________________________________________________________________________\n",
      "batch_normalization_3 (BatchNor (None, 112, 112, 44) 176         concatenate_1[0][0]              \n",
      "__________________________________________________________________________________________________\n",
      "activation_3 (Activation)       (None, 112, 112, 44) 0           batch_normalization_3[0][0]      \n",
      "__________________________________________________________________________________________________\n",
      "conv2d_4 (Conv2D)               (None, 112, 112, 12) 4752        activation_3[0][0]               \n",
      "__________________________________________________________________________________________________\n",
      "concatenate_2 (Concatenate)     (None, 112, 112, 56) 0           conv2d_2[0][0]                   \n",
      "                                                                 conv2d_3[0][0]                   \n",
      "                                                                 conv2d_4[0][0]                   \n",
      "__________________________________________________________________________________________________\n",
      "batch_normalization_4 (BatchNor (None, 112, 112, 56) 224         concatenate_2[0][0]              \n",
      "__________________________________________________________________________________________________\n",
      "activation_4 (Activation)       (None, 112, 112, 56) 0           batch_normalization_4[0][0]      \n",
      "__________________________________________________________________________________________________\n",
      "conv2d_5 (Conv2D)               (None, 112, 112, 12) 6048        activation_4[0][0]               \n",
      "__________________________________________________________________________________________________\n",
      "concatenate_3 (Concatenate)     (None, 112, 112, 68) 0           conv2d_2[0][0]                   \n",
      "                                                                 conv2d_3[0][0]                   \n",
      "                                                                 conv2d_4[0][0]                   \n",
      "                                                                 conv2d_5[0][0]                   \n",
      "__________________________________________________________________________________________________\n",
      "batch_normalization_5 (BatchNor (None, 112, 112, 68) 272         concatenate_3[0][0]              \n",
      "__________________________________________________________________________________________________\n",
      "activation_5 (Activation)       (None, 112, 112, 68) 0           batch_normalization_5[0][0]      \n",
      "__________________________________________________________________________________________________\n",
      "conv2d_6 (Conv2D)               (None, 112, 112, 12) 7344        activation_5[0][0]               \n",
      "__________________________________________________________________________________________________\n",
      "concatenate_4 (Concatenate)     (None, 112, 112, 80) 0           conv2d_2[0][0]                   \n",
      "                                                                 conv2d_3[0][0]                   \n",
      "                                                                 conv2d_4[0][0]                   \n",
      "                                                                 conv2d_5[0][0]                   \n",
      "                                                                 conv2d_6[0][0]                   \n",
      "__________________________________________________________________________________________________\n",
      "batch_normalization_6 (BatchNor (None, 112, 112, 80) 320         concatenate_4[0][0]              \n",
      "__________________________________________________________________________________________________\n",
      "activation_6 (Activation)       (None, 112, 112, 80) 0           batch_normalization_6[0][0]      \n",
      "__________________________________________________________________________________________________\n",
      "conv2d_7 (Conv2D)               (None, 112, 112, 12) 8640        activation_6[0][0]               \n",
      "__________________________________________________________________________________________________\n",
      "concatenate_5 (Concatenate)     (None, 112, 112, 92) 0           conv2d_2[0][0]                   \n",
      "                                                                 conv2d_3[0][0]                   \n",
      "                                                                 conv2d_4[0][0]                   \n",
      "                                                                 conv2d_5[0][0]                   \n",
      "                                                                 conv2d_6[0][0]                   \n",
      "                                                                 conv2d_7[0][0]                   \n",
      "__________________________________________________________________________________________________\n",
      "batch_normalization_7 (BatchNor (None, 112, 112, 92) 368         concatenate_5[0][0]              \n",
      "__________________________________________________________________________________________________\n",
      "activation_7 (Activation)       (None, 112, 112, 92) 0           batch_normalization_7[0][0]      \n",
      "__________________________________________________________________________________________________\n",
      "conv2d_8 (Conv2D)               (None, 112, 112, 12) 9936        activation_7[0][0]               \n",
      "__________________________________________________________________________________________________\n",
      "concatenate_6 (Concatenate)     (None, 112, 112, 104 0           conv2d_2[0][0]                   \n",
      "                                                                 conv2d_3[0][0]                   \n",
      "                                                                 conv2d_4[0][0]                   \n",
      "                                                                 conv2d_5[0][0]                   \n",
      "                                                                 conv2d_6[0][0]                   \n",
      "                                                                 conv2d_7[0][0]                   \n",
      "                                                                 conv2d_8[0][0]                   \n",
      "__________________________________________________________________________________________________\n",
      "batch_normalization_8 (BatchNor (None, 112, 112, 104 416         concatenate_6[0][0]              \n",
      "__________________________________________________________________________________________________\n",
      "activation_8 (Activation)       (None, 112, 112, 104 0           batch_normalization_8[0][0]      \n",
      "__________________________________________________________________________________________________\n",
      "conv2d_9 (Conv2D)               (None, 112, 112, 12) 11232       activation_8[0][0]               \n",
      "__________________________________________________________________________________________________\n",
      "concatenate_7 (Concatenate)     (None, 112, 112, 116 0           conv2d_2[0][0]                   \n",
      "                                                                 conv2d_3[0][0]                   \n",
      "                                                                 conv2d_4[0][0]                   \n",
      "                                                                 conv2d_5[0][0]                   \n",
      "                                                                 conv2d_6[0][0]                   \n",
      "                                                                 conv2d_7[0][0]                   \n",
      "                                                                 conv2d_8[0][0]                   \n",
      "                                                                 conv2d_9[0][0]                   \n",
      "__________________________________________________________________________________________________\n",
      "batch_normalization_9 (BatchNor (None, 112, 112, 116 464         concatenate_7[0][0]              \n",
      "__________________________________________________________________________________________________\n",
      "activation_9 (Activation)       (None, 112, 112, 116 0           batch_normalization_9[0][0]      \n",
      "__________________________________________________________________________________________________\n",
      "conv2d_10 (Conv2D)              (None, 112, 112, 12) 12528       activation_9[0][0]               \n",
      "__________________________________________________________________________________________________\n",
      "concatenate_8 (Concatenate)     (None, 112, 112, 128 0           conv2d_2[0][0]                   \n",
      "                                                                 conv2d_3[0][0]                   \n",
      "                                                                 conv2d_4[0][0]                   \n",
      "                                                                 conv2d_5[0][0]                   \n",
      "                                                                 conv2d_6[0][0]                   \n",
      "                                                                 conv2d_7[0][0]                   \n",
      "                                                                 conv2d_8[0][0]                   \n",
      "                                                                 conv2d_9[0][0]                   \n",
      "                                                                 conv2d_10[0][0]                  \n",
      "__________________________________________________________________________________________________\n",
      "batch_normalization_10 (BatchNo (None, 112, 112, 128 512         concatenate_8[0][0]              \n",
      "__________________________________________________________________________________________________\n",
      "activation_10 (Activation)      (None, 112, 112, 128 0           batch_normalization_10[0][0]     \n",
      "__________________________________________________________________________________________________\n",
      "conv2d_11 (Conv2D)              (None, 112, 112, 12) 13824       activation_10[0][0]              \n",
      "__________________________________________________________________________________________________\n",
      "concatenate_9 (Concatenate)     (None, 112, 112, 140 0           conv2d_2[0][0]                   \n",
      "                                                                 conv2d_3[0][0]                   \n",
      "                                                                 conv2d_4[0][0]                   \n",
      "                                                                 conv2d_5[0][0]                   \n",
      "                                                                 conv2d_6[0][0]                   \n",
      "                                                                 conv2d_7[0][0]                   \n",
      "                                                                 conv2d_8[0][0]                   \n",
      "                                                                 conv2d_9[0][0]                   \n",
      "                                                                 conv2d_10[0][0]                  \n",
      "                                                                 conv2d_11[0][0]                  \n",
      "__________________________________________________________________________________________________\n",
      "batch_normalization_11 (BatchNo (None, 112, 112, 140 560         concatenate_9[0][0]              \n",
      "__________________________________________________________________________________________________\n",
      "activation_11 (Activation)      (None, 112, 112, 140 0           batch_normalization_11[0][0]     \n",
      "__________________________________________________________________________________________________\n",
      "conv2d_12 (Conv2D)              (None, 112, 112, 12) 15120       activation_11[0][0]              \n",
      "__________________________________________________________________________________________________\n",
      "concatenate_10 (Concatenate)    (None, 112, 112, 152 0           conv2d_2[0][0]                   \n",
      "                                                                 conv2d_3[0][0]                   \n",
      "                                                                 conv2d_4[0][0]                   \n",
      "                                                                 conv2d_5[0][0]                   \n",
      "                                                                 conv2d_6[0][0]                   \n",
      "                                                                 conv2d_7[0][0]                   \n",
      "                                                                 conv2d_8[0][0]                   \n",
      "                                                                 conv2d_9[0][0]                   \n",
      "                                                                 conv2d_10[0][0]                  \n",
      "                                                                 conv2d_11[0][0]                  \n",
      "                                                                 conv2d_12[0][0]                  \n",
      "__________________________________________________________________________________________________\n",
      "batch_normalization_12 (BatchNo (None, 112, 112, 152 608         concatenate_10[0][0]             \n",
      "__________________________________________________________________________________________________\n",
      "activation_12 (Activation)      (None, 112, 112, 152 0           batch_normalization_12[0][0]     \n",
      "__________________________________________________________________________________________________\n",
      "conv2d_13 (Conv2D)              (None, 112, 112, 152 23104       activation_12[0][0]              \n",
      "__________________________________________________________________________________________________\n",
      "average_pooling2d_1 (AveragePoo (None, 56, 56, 152)  0           conv2d_13[0][0]                  \n",
      "__________________________________________________________________________________________________\n",
      "batch_normalization_13 (BatchNo (None, 56, 56, 152)  608         average_pooling2d_1[0][0]        \n",
      "__________________________________________________________________________________________________\n",
      "activation_13 (Activation)      (None, 56, 56, 152)  0           batch_normalization_13[0][0]     \n",
      "__________________________________________________________________________________________________\n",
      "global_average_pooling2d_2 (Glo (None, 152)          0           activation_13[0][0]              \n",
      "__________________________________________________________________________________________________\n",
      "dense_2 (Dense)                 (None, 2)            306         global_average_pooling2d_2[0][0] \n",
      "==================================================================================================\n",
      "Total params: 121,234\n",
      "Trainable params: 118,906\n",
      "Non-trainable params: 2,328\n",
      "__________________________________________________________________________________________________\n"
     ]
    }
   ],
   "source": [
    " model =         Densenet(nb_classes=2,\n",
    "                          img_dim=(112,112,1),\n",
    "                          depth = 34,\n",
    "                          nb_dense_block = 2,\n",
    "                          growth_rate=12,\n",
    "                          nb_filter=32,\n",
    "                          dropout_rate=0.25,\n",
    "                          weight_decay=1E-4)\n",
    "model.summary()"
   ]
  },
  {
   "cell_type": "code",
   "execution_count": 9,
   "metadata": {
    "collapsed": true
   },
   "outputs": [],
   "source": [
    "\n",
    "model.compile(loss='categorical_crossentropy',\n",
    "              optimizer = Adamax(),\n",
    "              metrics=[\"accuracy\"])"
   ]
  },
  {
   "cell_type": "code",
   "execution_count": 10,
   "metadata": {
    "collapsed": true
   },
   "outputs": [],
   "source": [
    "#MODEL_TO_EVAL = '/Users/sidgupta/Downloads/NASNetMobile.hdf5'\n",
    "DATA_DIR = '/Users/sidgupta/Documents/mura'\n",
    "#EVAL_CSV = 'valid.csv'\n",
    "data_dir = DATA_DIR\n",
    "\n",
    "\n",
    "EVAL_DIR = join(data_dir, 'humerus')\n",
    "PRED_DIR = join(data_dir, 'humerus_v')"
   ]
  },
  {
   "cell_type": "code",
   "execution_count": 11,
   "metadata": {
    "collapsed": true
   },
   "outputs": [],
   "source": [
    "def preprocess(img):\n",
    "   width, height = img.shape[0], img.shape[1]\n",
    "   img = image.array_to_img(img, scale=False)\n",
    "\n",
    "   # Crop 48x48px\n",
    "   desired_width, desired_height = 48, 48\n",
    "   \"\"\"\n",
    "   if width < desired_width:\n",
    "       desired_width = width\"\"\"\n",
    "   #start_x = np.maximum(0, int((width-desired_width)/2))\n",
    "   img=img.convert(\"L\")\n",
    "   #img = img.crop((start_x, np.maximum(0, height-desired_height), start_x+desired_width, height))\n",
    "   img = img.resize((112, 112),Image.ANTIALIAS)\n",
    "   #img = img.reshape(112,112,1)\n",
    "   img = image.img_to_array(img)\n",
    "   return img / 255."
   ]
  },
  {
   "cell_type": "code",
   "execution_count": 12,
   "metadata": {
    "collapsed": false
   },
   "outputs": [
    {
     "name": "stdout",
     "output_type": "stream",
     "text": [
      "Found 1272 images belonging to 2 classes.\n",
      "Found 288 images belonging to 2 classes.\n"
     ]
    }
   ],
   "source": [
    "train_datagen = ImageDataGenerator(\n",
    "      rescale=1./255,\n",
    "      rotation_range=20,\n",
    "      width_shift_range=0.2,\n",
    "      height_shift_range=0.2,\n",
    "      horizontal_flip=True,\n",
    "      fill_mode='nearest',\n",
    "preprocessing_function=preprocess)\n",
    " \n",
    "validation_datagen = ImageDataGenerator(rescale=1./255,preprocessing_function=preprocess)\n",
    " \n",
    "# Change the batchsize according to your system RAM\n",
    "train_batchsize = 200\n",
    "val_batchsize = 20\n",
    " \n",
    "train_generator = train_datagen.flow_from_directory(\n",
    "        EVAL_DIR,\n",
    "        target_size=(112, 112),\n",
    "        batch_size=train_batchsize,\n",
    "        class_mode='categorical',\n",
    "color_mode='grayscale')\n",
    " \n",
    "validation_generator = validation_datagen.flow_from_directory(\n",
    "        PRED_DIR,\n",
    "        target_size=(112, 112),\n",
    "        batch_size=val_batchsize,\n",
    "        class_mode='categorical',\n",
    "        shuffle=False,color_mode='grayscale')"
   ]
  },
  {
   "cell_type": "code",
   "execution_count": null,
   "metadata": {
    "collapsed": false
   },
   "outputs": [
    {
     "name": "stdout",
     "output_type": "stream",
     "text": [
      "Epoch 1/30\n",
      "1/6 [===>..........................] - ETA: 1:44:22 - loss: 1.1814 - acc: 0.4800"
     ]
    }
   ],
   "source": [
    "history = model.fit_generator(\n",
    "      train_generator,\n",
    "      steps_per_epoch=train_generator.samples/train_generator.batch_size ,\n",
    "      epochs=30,\n",
    "      validation_data=validation_generator,\n",
    "      validation_steps=validation_generator.samples/validation_generator.batch_size)\n",
    " \n",
    "with open('densenet_.pkl', 'wb') as pickle_out:  \n",
    "    pickle.dump(history, pickle_out)    \n",
    "# Save the model\n",
    "model.save('densenet_.h5')"
   ]
  }
 ],
 "metadata": {
  "kernelspec": {
   "display_name": "Python 3",
   "language": "python",
   "name": "python3"
  },
  "language_info": {
   "codemirror_mode": {
    "name": "ipython",
    "version": 3
   },
   "file_extension": ".py",
   "mimetype": "text/x-python",
   "name": "python",
   "nbconvert_exporter": "python",
   "pygments_lexer": "ipython3",
   "version": "3.6.8"
  }
 },
 "nbformat": 4,
 "nbformat_minor": 2
}
